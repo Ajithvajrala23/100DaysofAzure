{
 "cells": [
  {
   "cell_type": "code",
   "execution_count": 1,
   "metadata": {},
   "outputs": [],
   "source": [
    "import pandas as pd\n",
    "import numpy as np"
   ]
  },
  {
   "cell_type": "code",
   "execution_count": 2,
   "metadata": {
    "jupyter": {
     "outputs_hidden": false,
     "source_hidden": false
    },
    "nteract": {
     "transient": {
      "deleting": false
     }
    }
   },
   "outputs": [],
   "source": [
    "from azureml.core.workspace import Workspace\n",
    "ws = Workspace.from_config()"
   ]
  },
  {
   "cell_type": "code",
   "execution_count": 3,
   "metadata": {
    "jupyter": {
     "outputs_hidden": false,
     "source_hidden": false
    },
    "nteract": {
     "transient": {
      "deleting": false
     }
    }
   },
   "outputs": [],
   "source": [
    "from azureml.core import Dataset"
   ]
  },
  {
   "cell_type": "code",
   "execution_count": 4,
   "metadata": {
    "jupyter": {
     "outputs_hidden": false,
     "source_hidden": false
    },
    "nteract": {
     "transient": {
      "deleting": false
     }
    }
   },
   "outputs": [],
   "source": [
    "dataset = Dataset.get_by_name(ws, name='credit_card_data')\n",
    "data = dataset.to_pandas_dataframe()"
   ]
  },
  {
   "cell_type": "code",
   "execution_count": 5,
   "metadata": {
    "jupyter": {
     "outputs_hidden": false,
     "source_hidden": false
    },
    "nteract": {
     "transient": {
      "deleting": false
     }
    }
   },
   "outputs": [],
   "source": [
    "from sklearn.model_selection import train_test_split\n",
    "\n",
    "y_df = data.pop(\"Class\")\n",
    "x_df = data\n",
    "\n",
    "x_train, x_test, y_train, y_test = train_test_split(x_df, y_df, test_size=0.2, random_state=223)"
   ]
  },
  {
   "cell_type": "code",
   "execution_count": 6,
   "metadata": {
    "jupyter": {
     "outputs_hidden": false,
     "source_hidden": false
    },
    "nteract": {
     "transient": {
      "deleting": false
     }
    }
   },
   "outputs": [],
   "source": [
    "import logging\n",
    "\n",
    "automl_settings = {\n",
    "    \"iteration_timeout_minutes\": 2,\n",
    "    \"experiment_timeout_minutes\": 15,\n",
    "    \"enable_early_stopping\": True,\n",
    "    \"primary_metric\": 'AUC_weighted',\n",
    "    \"featurization\": 'auto',\n",
    "    \"verbosity\": logging.INFO,\n",
    "    \"n_cross_validations\": 5\n",
    "}"
   ]
  },
  {
   "cell_type": "code",
   "execution_count": 7,
   "metadata": {
    "jupyter": {
     "outputs_hidden": false,
     "source_hidden": false
    },
    "nteract": {
     "transient": {
      "deleting": false
     }
    }
   },
   "outputs": [
    {
     "name": "stderr",
     "output_type": "stream",
     "text": [
      "WARNING - The AutoMLConfig inputs you have specified will soon be deprecated. Please use the AutoMLConfig shown in our documentation: https://aka.ms/AutoMLConfig\n"
     ]
    }
   ],
   "source": [
    "from azureml.train.automl import AutoMLConfig\n",
    "\n",
    "automl_config = AutoMLConfig(task='classification',\n",
    "                             debug_log='automated_ml_errors.log',\n",
    "                             X=x_train.values,\n",
    "                             y=y_train.values.flatten(),\n",
    "                             **automl_settings)"
   ]
  },
  {
   "cell_type": "code",
   "execution_count": 8,
   "metadata": {
    "jupyter": {
     "outputs_hidden": false,
     "source_hidden": false
    },
    "nteract": {
     "transient": {
      "deleting": false
     }
    }
   },
   "outputs": [
    {
     "name": "stdout",
     "output_type": "stream",
     "text": [
      "Running on local machine\n",
      "Parent Run ID: AutoML_42870315-8f07-4838-be3f-eb2de8c73ba8\n",
      "\n",
      "Current status: DatasetEvaluation. Gathering dataset statistics.\n",
      "Current status: FeaturesGeneration. Generating features for the dataset.\n",
      "Current status: DatasetFeaturization. Beginning to fit featurizers and featurize the dataset.\n",
      "Current status: DatasetFeaturizationCompleted. Completed fit featurizers and featurizing the dataset.\n",
      "Current status: DatasetBalancing. Performing class balancing sweeping\n",
      "Current status: DatasetCrossValidationSplit. Generating individually featurized CV splits.\n",
      "\n",
      "****************************************************************************************************\n",
      "DATA GUARDRAILS: \n",
      "\n",
      "TYPE:         Class balancing detection\n",
      "STATUS:       ALERTED\n",
      "DESCRIPTION:  Classes in the training data are imbalanced.\n",
      "PARAMETERS:   Size of the smallest class : 385, number of samples in the training data : 227845\n",
      "              \n",
      "TYPE:         Missing values imputation\n",
      "STATUS:       PASSED\n",
      "DESCRIPTION:  There were no missing values found in the training data.\n",
      "\n",
      "TYPE:         High cardinality feature detection\n",
      "STATUS:       PASSED\n",
      "DESCRIPTION:  Your inputs were analyzed, and no high cardinality features were detected.\n",
      "\n",
      "****************************************************************************************************\n",
      "Current status: ModelSelection. Beginning model selection.\n",
      "\n",
      "****************************************************************************************************\n",
      "ITERATION: The iteration being evaluated.\n",
      "PIPELINE: A summary description of the pipeline being evaluated.\n",
      "DURATION: Time taken for the current iteration.\n",
      "METRIC: The result of computing score on the fitted pipeline.\n",
      "BEST: The best observed score thus far.\n",
      "****************************************************************************************************\n",
      "\n",
      " ITERATION   PIPELINE                                       DURATION      METRIC      BEST\n",
      "         0   MaxAbsScaler LightGBM                          0:01:10       0.5841    0.5841\n",
      "         1                                                  0:02:01          nan    0.5841\n",
      "ERROR:                                                 \n",
      "         2   StandardScalerWrapper SGD                      0:00:33       0.9477    0.9477\n",
      "         3   StandardScalerWrapper SGD                      0:00:43       0.9590    0.9590\n",
      "         4   MinMaxScaler LightGBM                          0:00:53       0.9733    0.9733\n",
      "         5   StandardScalerWrapper XGBoostClassifier        0:01:27       0.9113    0.9733\n",
      "         6   StandardScalerWrapper SGD                      0:00:39       0.9332    0.9733\n",
      "         7   StandardScalerWrapper ExtremeRandomTrees       0:00:58       0.9631    0.9733\n",
      "         8   MinMaxScaler SGD                               0:00:44       0.9694    0.9733\n",
      "         9   StandardScalerWrapper LightGBM                 0:00:51       0.9717    0.9733\n",
      "        10   StandardScalerWrapper ExtremeRandomTrees       0:00:43       0.9296    0.9733\n",
      "        11   StandardScalerWrapper SGD                      0:00:34       0.9499    0.9733\n",
      "        12   RobustScaler ExtremeRandomTrees                0:00:48       0.9589    0.9733\n",
      "        13   SparseNormalizer XGBoostClassifier             0:00:52       0.6805    0.9733\n",
      "        14                                                  0:02:03          nan    0.9733\n",
      "ERROR:                                                 \n",
      "        15                                                  0:02:01          nan    0.9733\n",
      "ERROR:                                                 \n",
      "        16                                                  0:02:01          nan    0.9733\n",
      "ERROR:                                                 \n",
      "Stopping criteria reached at iteration 17. Ending experiment.\n",
      "****************************************************************************************************\n",
      "Current status: BestRunExplainModel. Best run model explanations started\n",
      "Current status: ModelExplanationDataSetSetup. Model explanations data setup completed\n",
      "Current status: EngineeredFeatureExplanations. Computation of engineered features started\n",
      "Current status: EngineeredFeatureExplanations. Computation of engineered features completed\n",
      "Current status: BestRunExplainModel. Best run model explanations completed\n",
      "****************************************************************************************************\n"
     ]
    }
   ],
   "source": [
    "from azureml.core.experiment import Experiment\n",
    "experiment = Experiment(ws, \"credit-experiment\")\n",
    "local_run = experiment.submit(automl_config, show_output=True)"
   ]
  },
  {
   "cell_type": "code",
   "execution_count": 9,
   "metadata": {
    "jupyter": {
     "outputs_hidden": false,
     "source_hidden": false
    },
    "nteract": {
     "transient": {
      "deleting": false
     }
    }
   },
   "outputs": [
    {
     "data": {
      "application/vnd.jupyter.widget-view+json": {
       "model_id": "a8676a44392c46e8b1d6b0be453f61e4",
       "version_major": 2,
       "version_minor": 0
      },
      "text/plain": [
       "_AutoMLWidget(widget_settings={'childWidgetDisplay': 'popup', 'send_telemetry': False, 'log_level': 'INFO', 's…"
      ]
     },
     "metadata": {},
     "output_type": "display_data"
    },
    {
     "data": {
      "application/aml.mini.widget.v1": "{\"status\": \"Completed\", \"workbench_run_details_uri\": \"https://ml.azure.com/experiments/credit-experiment/runs/AutoML_42870315-8f07-4838-be3f-eb2de8c73ba8?wsid=/subscriptions/23b3eeaf-8619-495c-b837-5dece9a29613/resourcegroups/azure-ml/workspaces/azure-ml\", \"run_id\": \"AutoML_42870315-8f07-4838-be3f-eb2de8c73ba8\", \"run_properties\": {\"run_id\": \"AutoML_42870315-8f07-4838-be3f-eb2de8c73ba8\", \"created_utc\": \"2020-04-19T00:46:36.830988Z\", \"properties\": {\"num_iterations\": \"1000\", \"training_type\": \"TrainFull\", \"acquisition_function\": \"EI\", \"primary_metric\": \"AUC_weighted\", \"train_split\": \"0\", \"acquisition_parameter\": \"0\", \"num_cross_validation\": \"5\", \"target\": \"local\", \"RawAMLSettingsString\": \"{'name': 'credit-experiment', 'path': '.', 'subscription_id': '23b3eeaf-8619-495c-b837-5dece9a29613', 'resource_group': 'azure-ml', 'workspace_name': 'azure-ml', 'region': 'centralus', 'compute_target': 'local', 'spark_service': None, 'azure_service': 'Microsoft.AzureNotebookVM', 'iterations': 1000, 'primary_metric': 'AUC_weighted', 'task_type': 'classification', 'data_script': None, 'validation_size': 0.0, 'n_cross_validations': 5, 'y_min': None, 'y_max': None, 'num_classes': 2, 'featurization': 'auto', 'lag_length': 0, 'is_timeseries': False, 'max_cores_per_iteration': 1, 'max_concurrent_iterations': 1, 'iteration_timeout_minutes': 2, 'mem_in_mb': None, 'enforce_time_on_windows': False, 'experiment_timeout_minutes': 15, 'experiment_exit_score': None, 'whitelist_models': None, 'blacklist_algos': ['KNN', 'KNN', 'SVM'], 'supported_models': ['MultinomialNaiveBayes', 'LinearSVM', 'TensorFlowDNN', 'BernoulliNaiveBayes', 'KNN', 'SGD', 'ExtremeRandomTrees', 'XGBoostClassifier', 'AveragedPerceptronClassifier', 'GradientBoosting', 'TensorFlowLinearClassifier', 'LogisticRegression', 'LightGBM', 'SVM', 'DecisionTree', 'RandomForest'], 'auto_blacklist': True, 'blacklist_samples_reached': True, 'exclude_nan_labels': True, 'verbosity': 20, 'debug_log': 'automated_ml_errors.log', 'show_warnings': False, 'model_explainability': True, 'service_url': None, 'sdk_url': None, 'sdk_packages': None, 'enable_onnx_compatible_models': False, 'enable_split_onnx_featurizer_estimator_models': False, 'vm_type': None, 'telemetry_verbosity': 'INFO', 'send_telemetry': True, 'enable_dnn': False, 'force_text_dnn': False, 'enable_feature_sweeping': True, 'enable_early_stopping': True, 'early_stopping_n_iters': 10, 'metrics': None, 'enable_ensembling': True, 'enable_stack_ensembling': True, 'ensemble_iterations': 15, 'enable_tf': False, 'enable_cache': True, 'enable_subsampling': None, 'subsample_seed': None, 'enable_nimbusml': False, 'enable_streaming': False, 'force_streaming': False, 'label_column_name': None, 'weight_column_name': None, 'cost_mode': 1, 'metric_operation': 'maximize', 'preprocess': True, 'scenario': 'SDK'}\", \"AMLSettingsJsonString\": \"{\\\"name\\\": \\\"credit-experiment\\\", \\\"path\\\": \\\".\\\", \\\"subscription_id\\\": \\\"23b3eeaf-8619-495c-b837-5dece9a29613\\\", \\\"resource_group\\\": \\\"azure-ml\\\", \\\"workspace_name\\\": \\\"azure-ml\\\", \\\"region\\\": \\\"centralus\\\", \\\"compute_target\\\": \\\"local\\\", \\\"spark_service\\\": null, \\\"azure_service\\\": \\\"Microsoft.AzureNotebookVM\\\", \\\"iterations\\\": 1000, \\\"primary_metric\\\": \\\"AUC_weighted\\\", \\\"task_type\\\": \\\"classification\\\", \\\"data_script\\\": null, \\\"validation_size\\\": 0.0, \\\"n_cross_validations\\\": 5, \\\"y_min\\\": null, \\\"y_max\\\": null, \\\"num_classes\\\": 2, \\\"featurization\\\": \\\"auto\\\", \\\"lag_length\\\": 0, \\\"is_timeseries\\\": false, \\\"max_cores_per_iteration\\\": 1, \\\"max_concurrent_iterations\\\": 1, \\\"iteration_timeout_minutes\\\": 2, \\\"mem_in_mb\\\": null, \\\"enforce_time_on_windows\\\": false, \\\"experiment_timeout_minutes\\\": 15, \\\"experiment_exit_score\\\": null, \\\"whitelist_models\\\": null, \\\"blacklist_algos\\\": [\\\"KNN\\\", \\\"KNN\\\", \\\"SVM\\\"], \\\"supported_models\\\": [\\\"MultinomialNaiveBayes\\\", \\\"LinearSVM\\\", \\\"TensorFlowDNN\\\", \\\"BernoulliNaiveBayes\\\", \\\"KNN\\\", \\\"SGD\\\", \\\"ExtremeRandomTrees\\\", \\\"XGBoostClassifier\\\", \\\"AveragedPerceptronClassifier\\\", \\\"GradientBoosting\\\", \\\"TensorFlowLinearClassifier\\\", \\\"LogisticRegression\\\", \\\"LightGBM\\\", \\\"SVM\\\", \\\"DecisionTree\\\", \\\"RandomForest\\\"], \\\"auto_blacklist\\\": true, \\\"blacklist_samples_reached\\\": true, \\\"exclude_nan_labels\\\": true, \\\"verbosity\\\": 20, \\\"debug_log\\\": \\\"automated_ml_errors.log\\\", \\\"show_warnings\\\": false, \\\"model_explainability\\\": true, \\\"service_url\\\": null, \\\"sdk_url\\\": null, \\\"sdk_packages\\\": null, \\\"enable_onnx_compatible_models\\\": false, \\\"enable_split_onnx_featurizer_estimator_models\\\": false, \\\"vm_type\\\": null, \\\"telemetry_verbosity\\\": \\\"INFO\\\", \\\"send_telemetry\\\": true, \\\"enable_dnn\\\": false, \\\"force_text_dnn\\\": false, \\\"enable_feature_sweeping\\\": true, \\\"enable_early_stopping\\\": true, \\\"early_stopping_n_iters\\\": 10, \\\"metrics\\\": null, \\\"enable_ensembling\\\": true, \\\"enable_stack_ensembling\\\": true, \\\"ensemble_iterations\\\": 15, \\\"enable_tf\\\": false, \\\"enable_cache\\\": true, \\\"enable_subsampling\\\": null, \\\"subsample_seed\\\": null, \\\"enable_nimbusml\\\": false, \\\"enable_streaming\\\": false, \\\"force_streaming\\\": false, \\\"label_column_name\\\": null, \\\"weight_column_name\\\": null, \\\"cost_mode\\\": 1, \\\"metric_operation\\\": \\\"maximize\\\", \\\"preprocess\\\": true, \\\"scenario\\\": \\\"SDK\\\"}\", \"DataPrepJsonString\": null, \"EnableSubsampling\": null, \"runTemplate\": \"AutoML\", \"azureml.runsource\": \"automl\", \"display_task_type\": \"classification\", \"dependencies_versions\": \"{\\\"azureml-widgets\\\": \\\"1.2.0\\\", \\\"azureml-train\\\": \\\"1.2.0\\\", \\\"azureml-train-restclients-hyperdrive\\\": \\\"1.2.0\\\", \\\"azureml-train-core\\\": \\\"1.2.0\\\", \\\"azureml-train-automl\\\": \\\"1.2.0\\\", \\\"azureml-train-automl-runtime\\\": \\\"1.2.0\\\", \\\"azureml-train-automl-client\\\": \\\"1.2.0\\\", \\\"azureml-tensorboard\\\": \\\"1.2.0\\\", \\\"azureml-telemetry\\\": \\\"1.2.0\\\", \\\"azureml-sdk\\\": \\\"1.2.0\\\", \\\"azureml-samples\\\": \\\"0+unknown\\\", \\\"azureml-pipeline\\\": \\\"1.2.0\\\", \\\"azureml-pipeline-steps\\\": \\\"1.2.0\\\", \\\"azureml-pipeline-core\\\": \\\"1.2.0\\\", \\\"azureml-opendatasets\\\": \\\"1.2.0\\\", \\\"azureml-model-management-sdk\\\": \\\"1.0.1b6.post1\\\", \\\"azureml-mlflow\\\": \\\"1.2.0\\\", \\\"azureml-interpret\\\": \\\"1.2.0\\\", \\\"azureml-explain-model\\\": \\\"1.2.0\\\", \\\"azureml-defaults\\\": \\\"1.2.0\\\", \\\"azureml-dataprep\\\": \\\"1.3.5\\\", \\\"azureml-dataprep-native\\\": \\\"14.1.0\\\", \\\"azureml-core\\\": \\\"1.2.0.post1\\\", \\\"azureml-contrib-services\\\": \\\"1.2.0\\\", \\\"azureml-contrib-server\\\": \\\"1.2.0\\\", \\\"azureml-contrib-reinforcementlearning\\\": \\\"1.2.0\\\", \\\"azureml-contrib-pipeline-steps\\\": \\\"1.2.0\\\", \\\"azureml-contrib-notebook\\\": \\\"1.2.0\\\", \\\"azureml-contrib-interpret\\\": \\\"1.2.0\\\", \\\"azureml-automl-runtime\\\": \\\"1.2.0\\\", \\\"azureml-automl-core\\\": \\\"1.2.0\\\"}\", \"ClientType\": \"SDK\", \"ClientSdkVersion\": \"1.2.0\", \"environment_cpu_name\": \"\", \"environment_cpu_version\": \"\", \"environment_gpu_name\": \"\", \"environment_gpu_version\": \"\", \"ProblemInfoJsonString\": \"{\\\"dataset_num_categorical\\\": 0, \\\"is_sparse\\\": false, \\\"subsampling\\\": false, \\\"dataset_classes\\\": 2, \\\"dataset_features\\\": 29, \\\"dataset_samples\\\": 227845, \\\"single_frequency_class_detected\\\": false}\", \"feature_skus\": \"automatedml_sdk_guardrails\"}, \"tags\": {\"model_explain_run\": \"best_run\", \"model_explain_best_run_child_id\": \"AutoML_42870315-8f07-4838-be3f-eb2de8c73ba8_4\", \"best_score\": \"0.973280018004183\", \"best_pipeline\": \"LightGBM\"}, \"end_time_utc\": \"2020-04-19T01:06:40.874567Z\", \"status\": \"Completed\", \"log_files\": {}, \"log_groups\": [], \"run_duration\": \"0:20:04\"}, \"child_runs\": [{\"run_id\": \"AutoML_42870315-8f07-4838-be3f-eb2de8c73ba8_0\", \"run_number\": 10, \"metric\": null, \"status\": \"Completed\", \"run_type\": null, \"training_percent\": \"100\", \"start_time\": \"2020-04-19T00:47:06.019543Z\", \"end_time\": \"2020-04-19T00:48:16.222146Z\", \"created_time\": \"2020-04-19T00:47:05.926667Z\", \"created_time_dt\": \"2020-04-19T00:47:05.926667Z\", \"duration\": \"0:01:10\", \"iteration\": \"0\", \"goal\": \"AUC_weighted_max\", \"run_name\": \"MaxAbsScaler, LightGBM\", \"run_properties\": \"copy=True\", \"primary_metric\": 0.58405122, \"best_metric\": 0.58405122}, {\"run_id\": \"AutoML_42870315-8f07-4838-be3f-eb2de8c73ba8_1\", \"run_number\": 11, \"metric\": null, \"status\": \"Failed\", \"run_type\": null, \"training_percent\": \"100\", \"start_time\": \"2020-04-19T00:48:17.012731Z\", \"end_time\": \"2020-04-19T00:50:17.868125Z\", \"created_time\": \"2020-04-19T00:48:16.910181Z\", \"created_time_dt\": \"2020-04-19T00:48:16.910181Z\", \"duration\": \"0:02:00\", \"iteration\": \"1\", \"goal\": \"AUC_weighted_max\", \"run_name\": \"MaxAbsScaler, XGBoostClassifier\", \"run_properties\": \"\"}, {\"run_id\": \"AutoML_42870315-8f07-4838-be3f-eb2de8c73ba8_2\", \"run_number\": 12, \"metric\": null, \"status\": \"Completed\", \"run_type\": null, \"training_percent\": \"100\", \"start_time\": \"2020-04-19T00:50:19.364829Z\", \"end_time\": \"2020-04-19T00:50:51.627361Z\", \"created_time\": \"2020-04-19T00:50:19.267232Z\", \"created_time_dt\": \"2020-04-19T00:50:19.267232Z\", \"duration\": \"0:00:32\", \"iteration\": \"2\", \"goal\": \"AUC_weighted_max\", \"run_name\": \"StandardScalerWrapper, SGD\", \"run_properties\": \"<azureml.automl.runtime.shared.model_wrappers.StandardScalerWrapper object at 0x7fc144c99908\", \"primary_metric\": 0.94772718, \"best_metric\": 0.94772718}, {\"run_id\": \"AutoML_42870315-8f07-4838-be3f-eb2de8c73ba8_3\", \"run_number\": 13, \"metric\": null, \"status\": \"Completed\", \"run_type\": null, \"training_percent\": \"100\", \"start_time\": \"2020-04-19T00:50:53.276839Z\", \"end_time\": \"2020-04-19T00:51:35.045329Z\", \"created_time\": \"2020-04-19T00:50:53.157712Z\", \"created_time_dt\": \"2020-04-19T00:50:53.157712Z\", \"duration\": \"0:00:41\", \"iteration\": \"3\", \"goal\": \"AUC_weighted_max\", \"run_name\": \"StandardScalerWrapper, SGD\", \"run_properties\": \"<azureml.automl.runtime.shared.model_wrappers.StandardScalerWrapper object at 0x7fc144ca3be0\", \"primary_metric\": 0.95896687, \"best_metric\": 0.95896687}, {\"run_id\": \"AutoML_42870315-8f07-4838-be3f-eb2de8c73ba8_4\", \"run_number\": 14, \"metric\": null, \"status\": \"Completed\", \"run_type\": null, \"training_percent\": \"100\", \"start_time\": \"2020-04-19T00:51:37.51453Z\", \"end_time\": \"2020-04-19T00:52:28.555999Z\", \"created_time\": \"2020-04-19T00:51:37.415793Z\", \"created_time_dt\": \"2020-04-19T00:51:37.415793Z\", \"duration\": \"0:00:51\", \"iteration\": \"4\", \"goal\": \"AUC_weighted_max\", \"run_name\": \"MinMaxScaler, LightGBM\", \"run_properties\": \"copy=True, feature_range=(0, 1\", \"primary_metric\": 0.97328002, \"best_metric\": 0.97328002}, {\"run_id\": \"AutoML_42870315-8f07-4838-be3f-eb2de8c73ba8_5\", \"run_number\": 15, \"metric\": null, \"status\": \"Completed\", \"run_type\": null, \"training_percent\": \"100\", \"start_time\": \"2020-04-19T00:52:30.105287Z\", \"end_time\": \"2020-04-19T00:53:56.002455Z\", \"created_time\": \"2020-04-19T00:52:29.988367Z\", \"created_time_dt\": \"2020-04-19T00:52:29.988367Z\", \"duration\": \"0:01:26\", \"iteration\": \"5\", \"goal\": \"AUC_weighted_max\", \"run_name\": \"StandardScalerWrapper, XGBoostClassifier\", \"run_properties\": \"<azureml.automl.runtime.shared.model_wrappers.StandardScalerWrapper object at 0x7fc144c51c88\", \"primary_metric\": 0.91133903, \"best_metric\": 0.97328002}, {\"run_id\": \"AutoML_42870315-8f07-4838-be3f-eb2de8c73ba8_6\", \"run_number\": 16, \"metric\": null, \"status\": \"Completed\", \"run_type\": null, \"training_percent\": \"100\", \"start_time\": \"2020-04-19T00:53:57.82714Z\", \"end_time\": \"2020-04-19T00:54:35.73759Z\", \"created_time\": \"2020-04-19T00:53:57.71829Z\", \"created_time_dt\": \"2020-04-19T00:53:57.71829Z\", \"duration\": \"0:00:38\", \"iteration\": \"6\", \"goal\": \"AUC_weighted_max\", \"run_name\": \"StandardScalerWrapper, SGD\", \"run_properties\": \"<azureml.automl.runtime.shared.model_wrappers.StandardScalerWrapper object at 0x7fc05b6a6cc0\", \"primary_metric\": 0.93320834, \"best_metric\": 0.97328002}, {\"run_id\": \"AutoML_42870315-8f07-4838-be3f-eb2de8c73ba8_7\", \"run_number\": 17, \"metric\": null, \"status\": \"Completed\", \"run_type\": null, \"training_percent\": \"100\", \"start_time\": \"2020-04-19T00:54:37.984233Z\", \"end_time\": \"2020-04-19T00:55:35.162262Z\", \"created_time\": \"2020-04-19T00:54:37.857511Z\", \"created_time_dt\": \"2020-04-19T00:54:37.857511Z\", \"duration\": \"0:00:57\", \"iteration\": \"7\", \"goal\": \"AUC_weighted_max\", \"run_name\": \"StandardScalerWrapper, ExtremeRandomTrees\", \"run_properties\": \"<azureml.automl.runtime.shared.model_wrappers.StandardScalerWrapper object at 0x7fc144ce7ac8\", \"primary_metric\": 0.96306313, \"best_metric\": 0.97328002}, {\"run_id\": \"AutoML_42870315-8f07-4838-be3f-eb2de8c73ba8_8\", \"run_number\": 18, \"metric\": null, \"status\": \"Completed\", \"run_type\": null, \"training_percent\": \"100\", \"start_time\": \"2020-04-19T00:55:36.80048Z\", \"end_time\": \"2020-04-19T00:56:19.299234Z\", \"created_time\": \"2020-04-19T00:55:36.697088Z\", \"created_time_dt\": \"2020-04-19T00:55:36.697088Z\", \"duration\": \"0:00:42\", \"iteration\": \"8\", \"goal\": \"AUC_weighted_max\", \"run_name\": \"MinMaxScaler, SGD\", \"run_properties\": \"copy=True, feature_range=(0, 1\", \"primary_metric\": 0.96939884, \"best_metric\": 0.97328002}, {\"run_id\": \"AutoML_42870315-8f07-4838-be3f-eb2de8c73ba8_9\", \"run_number\": 19, \"metric\": null, \"status\": \"Completed\", \"run_type\": null, \"training_percent\": \"100\", \"start_time\": \"2020-04-19T00:56:21.749224Z\", \"end_time\": \"2020-04-19T00:57:11.200223Z\", \"created_time\": \"2020-04-19T00:56:21.655087Z\", \"created_time_dt\": \"2020-04-19T00:56:21.655087Z\", \"duration\": \"0:00:49\", \"iteration\": \"9\", \"goal\": \"AUC_weighted_max\", \"run_name\": \"StandardScalerWrapper, LightGBM\", \"run_properties\": \"<azureml.automl.runtime.shared.model_wrappers.StandardScalerWrapper object at 0x7fc144a27cf8\", \"primary_metric\": 0.97166837, \"best_metric\": 0.97328002}, {\"run_id\": \"AutoML_42870315-8f07-4838-be3f-eb2de8c73ba8_10\", \"run_number\": 20, \"metric\": null, \"status\": \"Completed\", \"run_type\": null, \"training_percent\": \"100\", \"start_time\": \"2020-04-19T00:57:12.944651Z\", \"end_time\": \"2020-04-19T00:57:54.236549Z\", \"created_time\": \"2020-04-19T00:57:12.839Z\", \"created_time_dt\": \"2020-04-19T00:57:12.839Z\", \"duration\": \"0:00:41\", \"iteration\": \"10\", \"goal\": \"AUC_weighted_max\", \"run_name\": \"StandardScalerWrapper, ExtremeRandomTrees\", \"run_properties\": \"<azureml.automl.runtime.shared.model_wrappers.StandardScalerWrapper object at 0x7fc144b67da0\", \"primary_metric\": 0.92963534, \"best_metric\": 0.97328002}, {\"run_id\": \"AutoML_42870315-8f07-4838-be3f-eb2de8c73ba8_11\", \"run_number\": 21, \"metric\": null, \"status\": \"Completed\", \"run_type\": null, \"training_percent\": \"100\", \"start_time\": \"2020-04-19T00:57:56.042218Z\", \"end_time\": \"2020-04-19T00:58:28.641991Z\", \"created_time\": \"2020-04-19T00:57:55.938098Z\", \"created_time_dt\": \"2020-04-19T00:57:55.938098Z\", \"duration\": \"0:00:32\", \"iteration\": \"11\", \"goal\": \"AUC_weighted_max\", \"run_name\": \"StandardScalerWrapper, SGD\", \"run_properties\": \"<azureml.automl.runtime.shared.model_wrappers.StandardScalerWrapper object at 0x7fc144a07f28\", \"primary_metric\": 0.94992071, \"best_metric\": 0.97328002}, {\"run_id\": \"AutoML_42870315-8f07-4838-be3f-eb2de8c73ba8_12\", \"run_number\": 22, \"metric\": null, \"status\": \"Completed\", \"run_type\": null, \"training_percent\": \"100\", \"start_time\": \"2020-04-19T00:58:30.735883Z\", \"end_time\": \"2020-04-19T00:59:17.842367Z\", \"created_time\": \"2020-04-19T00:58:30.64568Z\", \"created_time_dt\": \"2020-04-19T00:58:30.64568Z\", \"duration\": \"0:00:47\", \"iteration\": \"12\", \"goal\": \"AUC_weighted_max\", \"run_name\": \"RobustScaler, ExtremeRandomTrees\", \"run_properties\": \"copy=True, quantile_range=[25, 75], with_centering=False,\\n       with_scaling=False\", \"primary_metric\": 0.95894209, \"best_metric\": 0.97328002}, {\"run_id\": \"AutoML_42870315-8f07-4838-be3f-eb2de8c73ba8_13\", \"run_number\": 23, \"metric\": null, \"status\": \"Completed\", \"run_type\": null, \"training_percent\": \"100\", \"start_time\": \"2020-04-19T00:59:19.491131Z\", \"end_time\": \"2020-04-19T01:00:10.252125Z\", \"created_time\": \"2020-04-19T00:59:19.373112Z\", \"created_time_dt\": \"2020-04-19T00:59:19.373112Z\", \"duration\": \"0:00:50\", \"iteration\": \"13\", \"goal\": \"AUC_weighted_max\", \"run_name\": \"SparseNormalizer, XGBoostClassifier\", \"run_properties\": \"<azureml.automl.runtime.shared.model_wrappers.SparseNormalizer object at 0x7fc144b26e80\", \"primary_metric\": 0.68049299, \"best_metric\": 0.97328002}, {\"run_id\": \"AutoML_42870315-8f07-4838-be3f-eb2de8c73ba8_14\", \"run_number\": 24, \"metric\": null, \"status\": \"Failed\", \"run_type\": null, \"training_percent\": \"100\", \"start_time\": \"2020-04-19T01:00:12.593376Z\", \"end_time\": \"2020-04-19T01:02:13.544689Z\", \"created_time\": \"2020-04-19T01:00:12.496389Z\", \"created_time_dt\": \"2020-04-19T01:00:12.496389Z\", \"duration\": \"0:02:01\", \"iteration\": \"14\", \"goal\": \"AUC_weighted_max\", \"run_name\": \"MinMaxScaler, RandomForest\", \"run_properties\": \"\"}, {\"run_id\": \"AutoML_42870315-8f07-4838-be3f-eb2de8c73ba8_15\", \"run_number\": 25, \"metric\": null, \"status\": \"Failed\", \"run_type\": null, \"training_percent\": \"100\", \"start_time\": \"2020-04-19T01:02:14.176942Z\", \"end_time\": \"2020-04-19T01:04:15.14655Z\", \"created_time\": \"2020-04-19T01:02:14.049935Z\", \"created_time_dt\": \"2020-04-19T01:02:14.049935Z\", \"duration\": \"0:02:01\", \"iteration\": \"15\", \"goal\": \"AUC_weighted_max\", \"run_name\": \"VotingEnsemble\", \"run_properties\": \"\"}, {\"run_id\": \"AutoML_42870315-8f07-4838-be3f-eb2de8c73ba8_16\", \"run_number\": 26, \"metric\": null, \"status\": \"Failed\", \"run_type\": null, \"training_percent\": \"100\", \"start_time\": \"2020-04-19T01:04:15.739181Z\", \"end_time\": \"2020-04-19T01:06:16.766804Z\", \"created_time\": \"2020-04-19T01:04:15.604895Z\", \"created_time_dt\": \"2020-04-19T01:04:15.604895Z\", \"duration\": \"0:02:01\", \"iteration\": \"16\", \"goal\": \"AUC_weighted_max\", \"run_name\": \"StackEnsemble\", \"run_properties\": \"\"}], \"children_metrics\": {\"categories\": [0], \"series\": {\"norm_macro_recall\": [{\"categories\": [\"0\", \"2\", \"3\", \"4\", \"5\", \"6\", \"7\", \"8\", \"9\", \"10\", \"11\", \"12\", \"13\"], \"mode\": \"markers\", \"name\": \"norm_macro_recall\", \"stepped\": false, \"type\": \"scatter\", \"data\": [0.3068763257363656, 0.632302287447511, 0.5838530408518313, 0.7082771403359841, 0.6898159973843112, 0.6451036246204243, 0.0, 0.49579161955963347, 0.7258712266971703, 0.7329113005134005, 0.6152411918661903, 0.814704510282952, 0.15869194723986862]}, {\"categories\": [\"0\", \"2\", \"3\", \"4\", \"5\", \"6\", \"7\", \"8\", \"9\", \"10\", \"11\", \"12\", \"13\"], \"mode\": \"lines\", \"name\": \"norm_macro_recall_max\", \"stepped\": true, \"type\": \"scatter\", \"data\": [0.3068763257363656, 0.632302287447511, 0.632302287447511, 0.7082771403359841, 0.7082771403359841, 0.7082771403359841, 0.7082771403359841, 0.7082771403359841, 0.7258712266971703, 0.7329113005134005, 0.7329113005134005, 0.814704510282952, 0.814704510282952]}], \"balanced_accuracy\": [{\"categories\": [\"0\", \"2\", \"3\", \"4\", \"5\", \"6\", \"7\", \"8\", \"9\", \"10\", \"11\", \"12\", \"13\"], \"mode\": \"markers\", \"name\": \"balanced_accuracy\", \"stepped\": false, \"type\": \"scatter\", \"data\": [0.6534381628681828, 0.8161511437237555, 0.7919265204259156, 0.8541385701679921, 0.8449079986921557, 0.8225518123102121, 0.5, 0.7478958097798167, 0.8629356133485852, 0.8664556502567002, 0.8076205959330951, 0.907352255141476, 0.5793459736199343]}, {\"categories\": [\"0\", \"2\", \"3\", \"4\", \"5\", \"6\", \"7\", \"8\", \"9\", \"10\", \"11\", \"12\", \"13\"], \"mode\": \"lines\", \"name\": \"balanced_accuracy_max\", \"stepped\": true, \"type\": \"scatter\", \"data\": [0.6534381628681828, 0.8161511437237555, 0.8161511437237555, 0.8541385701679921, 0.8541385701679921, 0.8541385701679921, 0.8541385701679921, 0.8541385701679921, 0.8629356133485852, 0.8664556502567002, 0.8664556502567002, 0.907352255141476, 0.907352255141476]}], \"precision_score_macro\": [{\"categories\": [\"0\", \"2\", \"3\", \"4\", \"5\", \"6\", \"7\", \"8\", \"9\", \"10\", \"11\", \"12\", \"13\"], \"mode\": \"markers\", \"name\": \"precision_score_macro\", \"stepped\": false, \"type\": \"scatter\", \"data\": [0.5726046191686406, 0.9279452979608896, 0.9118464299540422, 0.922291718319616, 0.9602138262927891, 0.5029057336787093, 0.49915512738923395, 0.5313259067204613, 0.9256784949156446, 0.508022935704686, 0.912326914308012, 0.5404294516777065, 0.8723869029170812]}, {\"categories\": [\"0\", \"2\", \"3\", \"4\", \"5\", \"6\", \"7\", \"8\", \"9\", \"10\", \"11\", \"12\", \"13\"], \"mode\": \"lines\", \"name\": \"precision_score_macro_max\", \"stepped\": true, \"type\": \"scatter\", \"data\": [0.5726046191686406, 0.9279452979608896, 0.9279452979608896, 0.9279452979608896, 0.9602138262927891, 0.9602138262927891, 0.9602138262927891, 0.9602138262927891, 0.9602138262927891, 0.9602138262927891, 0.9602138262927891, 0.9602138262927891, 0.9602138262927891]}], \"weighted_accuracy\": [{\"categories\": [\"0\", \"2\", \"3\", \"4\", \"5\", \"6\", \"7\", \"8\", \"9\", \"10\", \"11\", \"12\", \"13\"], \"mode\": \"markers\", \"name\": \"weighted_accuracy\", \"stepped\": false, \"type\": \"scatter\", \"data\": [0.9926437145793938, 0.999823072769415, 0.9997833459023345, 0.9997793402496482, 0.9998979862516203, 0.7095013110162104, 0.9999970990928665, 0.5972682838705189, 0.9997881896078843, 0.9005926479086102, 0.999779110986907, 0.9792438215176533, 0.9999096484783376]}, {\"categories\": [\"0\", \"2\", \"3\", \"4\", \"5\", \"6\", \"7\", \"8\", \"9\", \"10\", \"11\", \"12\", \"13\"], \"mode\": \"lines\", \"name\": \"weighted_accuracy_max\", \"stepped\": true, \"type\": \"scatter\", \"data\": [0.9926437145793938, 0.999823072769415, 0.999823072769415, 0.999823072769415, 0.9998979862516203, 0.9998979862516203, 0.9999970990928665, 0.9999970990928665, 0.9999970990928665, 0.9999970990928665, 0.9999970990928665, 0.9999970990928665, 0.9999970990928665]}], \"recall_score_weighted\": [{\"categories\": [\"0\", \"2\", \"3\", \"4\", \"5\", \"6\", \"7\", \"8\", \"9\", \"10\", \"11\", \"12\", \"13\"], \"mode\": \"markers\", \"name\": \"recall_score_weighted\", \"stepped\": false, \"type\": \"scatter\", \"data\": [0.9915205512519476, 0.9992012113498211, 0.9990739318396278, 0.9992889903223683, 0.9993767692949154, 0.7098904957317475, 0.9983102547784679, 0.5978713599157321, 0.9993284908600145, 0.9004805898746955, 0.9991441550176656, 0.9790076587153547, 0.9984945906208168]}, {\"categories\": [\"0\", \"2\", \"3\", \"4\", \"5\", \"6\", \"7\", \"8\", \"9\", \"10\", \"11\", \"12\", \"13\"], \"mode\": \"lines\", \"name\": \"recall_score_weighted_max\", \"stepped\": true, \"type\": \"scatter\", \"data\": [0.9915205512519476, 0.9992012113498211, 0.9992012113498211, 0.9992889903223683, 0.9993767692949154, 0.9993767692949154, 0.9993767692949154, 0.9993767692949154, 0.9993767692949154, 0.9993767692949154, 0.9993767692949154, 0.9993767692949154, 0.9993767692949154]}], \"f1_score_micro\": [{\"categories\": [\"0\", \"2\", \"3\", \"4\", \"5\", \"6\", \"7\", \"8\", \"9\", \"10\", \"11\", \"12\", \"13\"], \"mode\": \"markers\", \"name\": \"f1_score_micro\", \"stepped\": false, \"type\": \"scatter\", \"data\": [0.9915205512519476, 0.9992012113498211, 0.9990739318396278, 0.9992889903223683, 0.9993767692949154, 0.7098904957317475, 0.9983102547784679, 0.5978713599157321, 0.9993284908600145, 0.9004805898746955, 0.9991441550176656, 0.9790076587153547, 0.9984945906208168]}, {\"categories\": [\"0\", \"2\", \"3\", \"4\", \"5\", \"6\", \"7\", \"8\", \"9\", \"10\", \"11\", \"12\", \"13\"], \"mode\": \"lines\", \"name\": \"f1_score_micro_max\", \"stepped\": true, \"type\": \"scatter\", \"data\": [0.9915205512519476, 0.9992012113498211, 0.9992012113498211, 0.9992889903223683, 0.9993767692949154, 0.9993767692949154, 0.9993767692949154, 0.9993767692949154, 0.9993767692949154, 0.9993767692949154, 0.9993767692949154, 0.9993767692949154, 0.9993767692949154]}], \"recall_score_micro\": [{\"categories\": [\"0\", \"2\", \"3\", \"4\", \"5\", \"6\", \"7\", \"8\", \"9\", \"10\", \"11\", \"12\", \"13\"], \"mode\": \"markers\", \"name\": \"recall_score_micro\", \"stepped\": false, \"type\": \"scatter\", \"data\": [0.9915205512519476, 0.9992012113498211, 0.9990739318396278, 0.9992889903223683, 0.9993767692949154, 0.7098904957317475, 0.9983102547784679, 0.5978713599157321, 0.9993284908600145, 0.9004805898746955, 0.9991441550176656, 0.9790076587153547, 0.9984945906208168]}, {\"categories\": [\"0\", \"2\", \"3\", \"4\", \"5\", \"6\", \"7\", \"8\", \"9\", \"10\", \"11\", \"12\", \"13\"], \"mode\": \"lines\", \"name\": \"recall_score_micro_max\", \"stepped\": true, \"type\": \"scatter\", \"data\": [0.9915205512519476, 0.9992012113498211, 0.9992012113498211, 0.9992889903223683, 0.9993767692949154, 0.9993767692949154, 0.9993767692949154, 0.9993767692949154, 0.9993767692949154, 0.9993767692949154, 0.9993767692949154, 0.9993767692949154, 0.9993767692949154]}], \"matthews_correlation\": [{\"categories\": [\"0\", \"2\", \"3\", \"4\", \"5\", \"6\", \"7\", \"8\", \"9\", \"10\", \"11\", \"12\", \"13\"], \"mode\": \"markers\", \"name\": \"matthews_correlation\", \"stepped\": false, \"type\": \"scatter\", \"data\": [0.20082140165394935, 0.7349061822968932, 0.6911400112689942, 0.7730298555483855, 0.7965825048179324, 0.060879092419766946, 0.0, 0.17470279136487504, 0.7856607445891998, 0.10615790638373923, 0.7103793152574867, 0.24893616527833512, 0.34247091088407183]}, {\"categories\": [\"0\", \"2\", \"3\", \"4\", \"5\", \"6\", \"7\", \"8\", \"9\", \"10\", \"11\", \"12\", \"13\"], \"mode\": \"lines\", \"name\": \"matthews_correlation_max\", \"stepped\": true, \"type\": \"scatter\", \"data\": [0.20082140165394935, 0.7349061822968932, 0.7349061822968932, 0.7730298555483855, 0.7965825048179324, 0.7965825048179324, 0.7965825048179324, 0.7965825048179324, 0.7965825048179324, 0.7965825048179324, 0.7965825048179324, 0.7965825048179324, 0.7965825048179324]}], \"precision_score_micro\": [{\"categories\": [\"0\", \"2\", \"3\", \"4\", \"5\", \"6\", \"7\", \"8\", \"9\", \"10\", \"11\", \"12\", \"13\"], \"mode\": \"markers\", \"name\": \"precision_score_micro\", \"stepped\": false, \"type\": \"scatter\", \"data\": [0.9915205512519476, 0.9992012113498211, 0.9990739318396278, 0.9992889903223683, 0.9993767692949154, 0.7098904957317475, 0.9983102547784679, 0.5978713599157321, 0.9993284908600145, 0.9004805898746955, 0.9991441550176656, 0.9790076587153547, 0.9984945906208168]}, {\"categories\": [\"0\", \"2\", \"3\", \"4\", \"5\", \"6\", \"7\", \"8\", \"9\", \"10\", \"11\", \"12\", \"13\"], \"mode\": \"lines\", \"name\": \"precision_score_micro_max\", \"stepped\": true, \"type\": \"scatter\", \"data\": [0.9915205512519476, 0.9992012113498211, 0.9992012113498211, 0.9992889903223683, 0.9993767692949154, 0.9993767692949154, 0.9993767692949154, 0.9993767692949154, 0.9993767692949154, 0.9993767692949154, 0.9993767692949154, 0.9993767692949154, 0.9993767692949154]}], \"f1_score_macro\": [{\"categories\": [\"0\", \"2\", \"3\", \"4\", \"5\", \"6\", \"7\", \"8\", \"9\", \"10\", \"11\", \"12\", \"13\"], \"mode\": \"markers\", \"name\": \"f1_score_macro\", \"stepped\": false, \"type\": \"scatter\", \"data\": [0.5890935012053498, 0.862900475696892, 0.8394270461261332, 0.8848136061843885, 0.8940443920188248, 0.41974269360422645, 0.4995772020219909, 0.35802267034625934, 0.891352152572979, 0.48962343099088634, 0.8504721147440314, 0.5671230710567673, 0.6300082210940081]}, {\"categories\": [\"0\", \"2\", \"3\", \"4\", \"5\", \"6\", \"7\", \"8\", \"9\", \"10\", \"11\", \"12\", \"13\"], \"mode\": \"lines\", \"name\": \"f1_score_macro_max\", \"stepped\": true, \"type\": \"scatter\", \"data\": [0.5890935012053498, 0.862900475696892, 0.862900475696892, 0.8848136061843885, 0.8940443920188248, 0.8940443920188248, 0.8940443920188248, 0.8940443920188248, 0.8940443920188248, 0.8940443920188248, 0.8940443920188248, 0.8940443920188248, 0.8940443920188248]}], \"AUC_macro\": [{\"categories\": [\"0\", \"2\", \"3\", \"4\", \"5\", \"6\", \"7\", \"8\", \"9\", \"10\", \"11\", \"12\", \"13\"], \"mode\": \"markers\", \"name\": \"AUC_macro\", \"stepped\": false, \"type\": \"scatter\", \"data\": [0.5795776097532906, 0.9477271788400217, 0.9589668684475571, 0.973280018004183, 0.9113390325433702, 0.9332083430225767, 0.9630631254180871, 0.9693988403778517, 0.9716683715864483, 0.9296353350867541, 0.9499207062993177, 0.9589420874163231, 0.6804929943924377]}, {\"categories\": [\"0\", \"2\", \"3\", \"4\", \"5\", \"6\", \"7\", \"8\", \"9\", \"10\", \"11\", \"12\", \"13\"], \"mode\": \"lines\", \"name\": \"AUC_macro_max\", \"stepped\": true, \"type\": \"scatter\", \"data\": [0.5795776097532906, 0.9477271788400217, 0.9589668684475571, 0.973280018004183, 0.973280018004183, 0.973280018004183, 0.973280018004183, 0.973280018004183, 0.973280018004183, 0.973280018004183, 0.973280018004183, 0.973280018004183, 0.973280018004183]}], \"log_loss\": [{\"categories\": [\"0\", \"2\", \"3\", \"4\", \"5\", \"6\", \"7\", \"8\", \"9\", \"10\", \"11\", \"12\", \"13\"], \"mode\": \"markers\", \"name\": \"log_loss\", \"stepped\": false, \"type\": \"scatter\", \"data\": [0.27516129462202643, 0.010830771421927806, 0.004795468138650248, 0.0033618864991836264, 0.042553310764400464, 1.6675110653320118, 0.010324276853901002, 6.007215725561812, 0.003321843765278652, 0.5203615415479972, 0.005044990746748827, 0.4430976679986923, 0.20069240114045991]}, {\"categories\": [\"0\", \"2\", \"3\", \"4\", \"5\", \"6\", \"7\", \"8\", \"9\", \"10\", \"11\", \"12\", \"13\"], \"mode\": \"lines\", \"name\": \"log_loss_min\", \"stepped\": true, \"type\": \"scatter\", \"data\": [0.27516129462202643, 0.010830771421927806, 0.004795468138650248, 0.0033618864991836264, 0.0033618864991836264, 0.0033618864991836264, 0.0033618864991836264, 0.0033618864991836264, 0.003321843765278652, 0.003321843765278652, 0.003321843765278652, 0.003321843765278652, 0.003321843765278652]}], \"average_precision_score_weighted\": [{\"categories\": [\"0\", \"2\", \"3\", \"4\", \"5\", \"6\", \"7\", \"8\", \"9\", \"10\", \"11\", \"12\", \"13\"], \"mode\": \"markers\", \"name\": \"average_precision_score_weighted\", \"stepped\": false, \"type\": \"scatter\", \"data\": [0.9970189467153772, 0.9993477974807743, 0.9994027482728469, 0.9995684462106456, 0.9993551086231856, 0.9981845303893587, 0.9993464182100291, 0.9991831786953288, 0.9995847387539122, 0.9987852941551347, 0.9993266002066095, 0.9992964298251688, 0.997695061610971]}, {\"categories\": [\"0\", \"2\", \"3\", \"4\", \"5\", \"6\", \"7\", \"8\", \"9\", \"10\", \"11\", \"12\", \"13\"], \"mode\": \"lines\", \"name\": \"average_precision_score_weighted_max\", \"stepped\": true, \"type\": \"scatter\", \"data\": [0.9970189467153772, 0.9993477974807743, 0.9994027482728469, 0.9995684462106456, 0.9995684462106456, 0.9995684462106456, 0.9995684462106456, 0.9995684462106456, 0.9995847387539122, 0.9995847387539122, 0.9995847387539122, 0.9995847387539122, 0.9995847387539122]}], \"AUC_weighted\": [{\"categories\": [\"0\", \"2\", \"3\", \"4\", \"5\", \"6\", \"7\", \"8\", \"9\", \"10\", \"11\", \"12\", \"13\"], \"mode\": \"markers\", \"name\": \"AUC_weighted\", \"stepped\": false, \"type\": \"scatter\", \"data\": [0.5840512238530202, 0.9477271788400217, 0.9589668684475571, 0.973280018004183, 0.9113390325433702, 0.9332083430225765, 0.9630631254180873, 0.9693988403778517, 0.9716683715864483, 0.9296353350867543, 0.9499207062993176, 0.9589420874163231, 0.6804929943924377]}, {\"categories\": [\"0\", \"2\", \"3\", \"4\", \"5\", \"6\", \"7\", \"8\", \"9\", \"10\", \"11\", \"12\", \"13\"], \"mode\": \"lines\", \"name\": \"AUC_weighted_max\", \"stepped\": true, \"type\": \"scatter\", \"data\": [0.5840512238530202, 0.9477271788400217, 0.9589668684475571, 0.973280018004183, 0.973280018004183, 0.973280018004183, 0.973280018004183, 0.973280018004183, 0.973280018004183, 0.973280018004183, 0.973280018004183, 0.973280018004183, 0.973280018004183]}], \"AUC_micro\": [{\"categories\": [\"0\", \"2\", \"3\", \"4\", \"5\", \"6\", \"7\", \"8\", \"9\", \"10\", \"11\", \"12\", \"13\"], \"mode\": \"markers\", \"name\": \"AUC_micro\", \"stepped\": false, \"type\": \"scatter\", \"data\": [0.9897831269597163, 0.9997245966279283, 0.999768396252913, 0.9999099027410419, 0.9997066001952664, 0.7365899373884536, 0.9998745674137874, 0.6008573088641441, 0.999904591100939, 0.9656836860838306, 0.9997003016220163, 0.9970607873974267, 0.9989289266364112]}, {\"categories\": [\"0\", \"2\", \"3\", \"4\", \"5\", \"6\", \"7\", \"8\", \"9\", \"10\", \"11\", \"12\", \"13\"], \"mode\": \"lines\", \"name\": \"AUC_micro_max\", \"stepped\": true, \"type\": \"scatter\", \"data\": [0.9897831269597163, 0.9997245966279283, 0.999768396252913, 0.9999099027410419, 0.9999099027410419, 0.9999099027410419, 0.9999099027410419, 0.9999099027410419, 0.9999099027410419, 0.9999099027410419, 0.9999099027410419, 0.9999099027410419, 0.9999099027410419]}], \"accuracy\": [{\"categories\": [\"0\", \"2\", \"3\", \"4\", \"5\", \"6\", \"7\", \"8\", \"9\", \"10\", \"11\", \"12\", \"13\"], \"mode\": \"markers\", \"name\": \"accuracy\", \"stepped\": false, \"type\": \"scatter\", \"data\": [0.9915205512519476, 0.9992012113498211, 0.9990739318396278, 0.9992889903223683, 0.9993767692949154, 0.7098904957317475, 0.9983102547784679, 0.5978713599157321, 0.9993284908600145, 0.9004805898746955, 0.9991441550176656, 0.9790076587153547, 0.9984945906208168]}, {\"categories\": [\"0\", \"2\", \"3\", \"4\", \"5\", \"6\", \"7\", \"8\", \"9\", \"10\", \"11\", \"12\", \"13\"], \"mode\": \"lines\", \"name\": \"accuracy_max\", \"stepped\": true, \"type\": \"scatter\", \"data\": [0.9915205512519476, 0.9992012113498211, 0.9992012113498211, 0.9992889903223683, 0.9993767692949154, 0.9993767692949154, 0.9993767692949154, 0.9993767692949154, 0.9993767692949154, 0.9993767692949154, 0.9993767692949154, 0.9993767692949154, 0.9993767692949154]}], \"average_precision_score_micro\": [{\"categories\": [\"0\", \"2\", \"3\", \"4\", \"5\", \"6\", \"7\", \"8\", \"9\", \"10\", \"11\", \"12\", \"13\"], \"mode\": \"markers\", \"name\": \"average_precision_score_micro\", \"stepped\": false, \"type\": \"scatter\", \"data\": [0.9859874810370526, 0.999594916471929, 0.9996653180802129, 0.9999042028762058, 0.999561830773486, 0.6883035077749572, 0.9998675705547317, 0.7211750246345698, 0.9998987503404718, 0.9662599995460475, 0.9994340669630051, 0.996682894827884, 0.9984102434568959]}, {\"categories\": [\"0\", \"2\", \"3\", \"4\", \"5\", \"6\", \"7\", \"8\", \"9\", \"10\", \"11\", \"12\", \"13\"], \"mode\": \"lines\", \"name\": \"average_precision_score_micro_max\", \"stepped\": true, \"type\": \"scatter\", \"data\": [0.9859874810370526, 0.999594916471929, 0.9996653180802129, 0.9999042028762058, 0.9999042028762058, 0.9999042028762058, 0.9999042028762058, 0.9999042028762058, 0.9999042028762058, 0.9999042028762058, 0.9999042028762058, 0.9999042028762058, 0.9999042028762058]}], \"average_precision_score_macro\": [{\"categories\": [\"0\", \"2\", \"3\", \"4\", \"5\", \"6\", \"7\", \"8\", \"9\", \"10\", \"11\", \"12\", \"13\"], \"mode\": \"markers\", \"name\": \"average_precision_score_macro\", \"stepped\": false, \"type\": \"scatter\", \"data\": [0.5381782985851725, 0.8552807382906205, 0.853799508149074, 0.8887555117345602, 0.8939715333288053, 0.5318128344827767, 0.8298047036132512, 0.7839169926631557, 0.8944657956934259, 0.6939898793095237, 0.8536392044822648, 0.8202988002333738, 0.6313157823288345]}, {\"categories\": [\"0\", \"2\", \"3\", \"4\", \"5\", \"6\", \"7\", \"8\", \"9\", \"10\", \"11\", \"12\", \"13\"], \"mode\": \"lines\", \"name\": \"average_precision_score_macro_max\", \"stepped\": true, \"type\": \"scatter\", \"data\": [0.5381782985851725, 0.8552807382906205, 0.8552807382906205, 0.8887555117345602, 0.8939715333288053, 0.8939715333288053, 0.8939715333288053, 0.8939715333288053, 0.8944657956934259, 0.8944657956934259, 0.8944657956934259, 0.8944657956934259, 0.8944657956934259]}], \"recall_score_macro\": [{\"categories\": [\"0\", \"2\", \"3\", \"4\", \"5\", \"6\", \"7\", \"8\", \"9\", \"10\", \"11\", \"12\", \"13\"], \"mode\": \"markers\", \"name\": \"recall_score_macro\", \"stepped\": false, \"type\": \"scatter\", \"data\": [0.6534381628681828, 0.8161511437237555, 0.7919265204259156, 0.8541385701679921, 0.8449079986921557, 0.8225518123102121, 0.5, 0.7478958097798167, 0.8629356133485852, 0.8664556502567002, 0.8076205959330951, 0.907352255141476, 0.5793459736199343]}, {\"categories\": [\"0\", \"2\", \"3\", \"4\", \"5\", \"6\", \"7\", \"8\", \"9\", \"10\", \"11\", \"12\", \"13\"], \"mode\": \"lines\", \"name\": \"recall_score_macro_max\", \"stepped\": true, \"type\": \"scatter\", \"data\": [0.6534381628681828, 0.8161511437237555, 0.8161511437237555, 0.8541385701679921, 0.8541385701679921, 0.8541385701679921, 0.8541385701679921, 0.8541385701679921, 0.8629356133485852, 0.8664556502567002, 0.8664556502567002, 0.907352255141476, 0.907352255141476]}], \"precision_score_weighted\": [{\"categories\": [\"0\", \"2\", \"3\", \"4\", \"5\", \"6\", \"7\", \"8\", \"9\", \"10\", \"11\", \"12\", \"13\"], \"mode\": \"markers\", \"name\": \"precision_score_weighted\", \"stepped\": false, \"type\": \"scatter\", \"data\": [0.9974277652934133, 0.9991385294812014, 0.9989960553609437, 0.9992503489354709, 0.9993438715903922, 0.9981689377190515, 0.996623400432159, 0.9982492426846579, 0.9992937992750223, 0.998030292460992, 0.9990740332166472, 0.9981695504073638, 0.9981695793377179]}, {\"categories\": [\"0\", \"2\", \"3\", \"4\", \"5\", \"6\", \"7\", \"8\", \"9\", \"10\", \"11\", \"12\", \"13\"], \"mode\": \"lines\", \"name\": \"precision_score_weighted_max\", \"stepped\": true, \"type\": \"scatter\", \"data\": [0.9974277652934133, 0.9991385294812014, 0.9991385294812014, 0.9992503489354709, 0.9993438715903922, 0.9993438715903922, 0.9993438715903922, 0.9993438715903922, 0.9993438715903922, 0.9993438715903922, 0.9993438715903922, 0.9993438715903922, 0.9993438715903922]}], \"f1_score_weighted\": [{\"categories\": [\"0\", \"2\", \"3\", \"4\", \"5\", \"6\", \"7\", \"8\", \"9\", \"10\", \"11\", \"12\", \"13\"], \"mode\": \"markers\", \"name\": \"f1_score_weighted\", \"stepped\": false, \"type\": \"scatter\", \"data\": [0.9943699711928051, 0.9991379660597897, 0.9989906796085295, 0.999257976156183, 0.9993318495339029, 0.8262670667531335, 0.9974661055129539, 0.6039196969166937, 0.9993010197717304, 0.9457578043786083, 0.9990778687725431, 0.9879210785836404, 0.998004932370017]}, {\"categories\": [\"0\", \"2\", \"3\", \"4\", \"5\", \"6\", \"7\", \"8\", \"9\", \"10\", \"11\", \"12\", \"13\"], \"mode\": \"lines\", \"name\": \"f1_score_weighted_max\", \"stepped\": true, \"type\": \"scatter\", \"data\": [0.9943699711928051, 0.9991379660597897, 0.9991379660597897, 0.999257976156183, 0.9993318495339029, 0.9993318495339029, 0.9993318495339029, 0.9993318495339029, 0.9993318495339029, 0.9993318495339029, 0.9993318495339029, 0.9993318495339029, 0.9993318495339029]}]}, \"metricName\": null, \"primaryMetricName\": \"AUC_weighted\", \"showLegend\": false}, \"run_metrics\": [{\"name\": \"experiment_status\", \"run_id\": \"AutoML_42870315-8f07-4838-be3f-eb2de8c73ba8\", \"categories\": [0, 1, 2, 3, 4, 5, 6, 7, 8, 9, 10, 11], \"series\": [{\"data\": [\"DatasetEvaluation\", \"FeaturesGeneration\", \"DatasetFeaturization\", \"DatasetFeaturizationCompleted\", \"DatasetBalancing\", \"DatasetCrossValidationSplit\", \"ModelSelection\", \"BestRunExplainModel\", \"ModelExplanationDataSetSetup\", \"EngineeredFeatureExplanations\", \"EngineeredFeatureExplanations\", \"BestRunExplainModel\"]}]}, {\"name\": \"experiment_status_description\", \"run_id\": \"AutoML_42870315-8f07-4838-be3f-eb2de8c73ba8\", \"categories\": [0, 1, 2, 3, 4, 5, 6, 7, 8, 9, 10, 11], \"series\": [{\"data\": [\"Gathering dataset statistics.\", \"Generating features for the dataset.\", \"Beginning to fit featurizers and featurize the dataset.\", \"Completed fit featurizers and featurizing the dataset.\", \"Performing class balancing sweeping\", \"Generating individually featurized CV splits.\", \"Beginning model selection.\", \"Best run model explanations started\", \"Model explanations data setup completed\", \"Computation of engineered features started\", \"Computation of engineered features completed\", \"Best run model explanations completed\"]}]}], \"run_logs\": \"\\nRun is completed.\", \"graph\": {}, \"widget_settings\": {\"childWidgetDisplay\": \"popup\", \"send_telemetry\": false, \"log_level\": \"INFO\", \"sdk_version\": \"1.2.0\"}, \"loading\": false}"
     },
     "metadata": {},
     "output_type": "display_data"
    }
   ],
   "source": [
    "from azureml.widgets import RunDetails\n",
    "RunDetails(local_run).show()"
   ]
  },
  {
   "cell_type": "code",
   "execution_count": 10,
   "metadata": {
    "jupyter": {
     "outputs_hidden": false,
     "source_hidden": false
    },
    "nteract": {
     "transient": {
      "deleting": false
     }
    }
   },
   "outputs": [
    {
     "name": "stdout",
     "output_type": "stream",
     "text": [
      "Run(Experiment: credit-experiment,\n",
      "Id: AutoML_42870315-8f07-4838-be3f-eb2de8c73ba8_4,\n",
      "Type: None,\n",
      "Status: Completed)\n",
      "Pipeline(memory=None,\n",
      "     steps=[('datatransformer', DataTransformer(enable_dnn=None, enable_feature_sweeping=None,\n",
      "        feature_sweeping_config=None, feature_sweeping_timeout=None,\n",
      "        featurization_config=None, force_text_dnn=None,\n",
      "        is_cross_validation=None, is_onnx_compatible=None, logger=None,\n",
      "        obser...      silent=True, subsample=1, subsample_for_bin=200000,\n",
      "          subsample_freq=0, verbose=-10))])\n"
     ]
    }
   ],
   "source": [
    "#Retrieve the best model\n",
    "best_run, fitted_model = local_run.get_output()\n",
    "print(best_run)\n",
    "print(fitted_model)"
   ]
  },
  {
   "cell_type": "code",
   "execution_count": null,
   "metadata": {
    "jupyter": {
     "outputs_hidden": false,
     "source_hidden": false
    },
    "nteract": {
     "transient": {
      "deleting": false
     }
    }
   },
   "outputs": [],
   "source": []
  }
 ],
 "metadata": {
  "kernel_info": {
   "name": "python3-azureml"
  },
  "kernelspec": {
   "display_name": "Python 3.6 - AzureML",
   "language": "python",
   "name": "python3-azureml"
  },
  "language_info": {
   "codemirror_mode": {
    "name": "ipython",
    "version": 3
   },
   "file_extension": ".py",
   "mimetype": "text/x-python",
   "name": "python",
   "nbconvert_exporter": "python",
   "pygments_lexer": "ipython3",
   "version": "3.6.9"
  },
  "nteract": {
   "version": "nteract-front-end@1.0.0"
  }
 },
 "nbformat": 4,
 "nbformat_minor": 2
}
